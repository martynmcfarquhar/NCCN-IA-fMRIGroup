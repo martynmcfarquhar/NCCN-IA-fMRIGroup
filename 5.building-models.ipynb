{
 "cells": [
  {
   "cell_type": "markdown",
   "id": "63f72679-d1d8-4dbe-90e6-df28aa84fd99",
   "metadata": {},
   "source": [
    "# Building Group-level Models\n",
    "We are going to see many more examples of group-level models as part of *Experimental Design & Optimisation*. However, at this stage, it is useful to give a sense of how we use the GLM to analyse our per-subject contrast images. Luckily, the group-level is much more straightforward because we do not have to deal with issues such as the shape of the BOLD signal, the nature of time-series data, or low-frequency scanner noise. As such, group-level GLMs are generally much simpler than single-subject GLMs.\n",
    "\n",
    "## Indicator Variables for Groups\n",
    "The most basic form of 2nd-level model contains indicator variables for modelling different groups of subjects. For instance, if we had 3 subjects from one group and 3 from another, our 2nd-level GLM (for a single voxel) would be\n",
    "\n",
    "$$\n",
    "\\begin{bmatrix}\n",
    "y_{1} \\\\\n",
    "y_{2} \\\\\n",
    "y_{3} \\\\\n",
    "y_{4} \\\\\n",
    "y_{5} \\\\\n",
    "y_{6} \\\\\n",
    "\\end{bmatrix}\n",
    "=\n",
    "\\begin{bmatrix}\n",
    "1 & 0 \\\\\n",
    "1 & 0 \\\\\n",
    "1 & 0 \\\\\n",
    "0 & 1 \\\\\n",
    "0 & 1 \\\\\n",
    "0 & 1 \\\\\n",
    "\\end{bmatrix}\n",
    "\\begin{bmatrix}\n",
    "\\mu_{1} \\\\\n",
    "\\mu_{2} \\\\\n",
    "\\end{bmatrix}\n",
    "+\n",
    "\\begin{bmatrix}\n",
    "\\epsilon_{1} \\\\\n",
    "\\epsilon_{2} \\\\\n",
    "\\epsilon_{3} \\\\\n",
    "\\epsilon_{4} \\\\\n",
    "\\epsilon_{5} \\\\\n",
    "\\epsilon_{6} \\\\\n",
    "\\end{bmatrix}\n",
    "$$\n",
    "\n",
    "where $y_1$ is the contrast value from the 1st-level for subject 1, $y_2$ is the contrast value from the 1st-level for subject 2 and so on. The design matrix contains no constant, with only a single indicator variable coding group 1 and a single indicator variable coding group 2. This lack of a constant is due to SPM using a *cell means* approach to modelling groups at the 2nd-level. The main benefit of this method is that the GLM parameters become the *means of the groups*. In the notation above, the parameters have been renamed to $\\mu_1$ and $\\mu_2$ to make this clearer. The parameter estimates for this model at this voxel will then be the average contrast value for group 1 and the average contrast value for group 2. We can then compare the group means at every voxel using the hypothesis testing framework already established.\n",
    "\n",
    "## Model Estimation\n",
    "\n",
    "## Parameter Interpretation\n",
    "\n",
    "## Inference\n",
    "\n",
    "### One-tailed Tests\n",
    "\n",
    "### Two-tailed Tests\n",
    "\n",
    "```{admonition} When to Use $t$ and When to Use $F$?\n",
    "...\n",
    "``` "
   ]
  },
  {
   "cell_type": "code",
   "execution_count": null,
   "id": "f7e10e7a-5342-4f40-8e60-f0e4f7b13a7b",
   "metadata": {},
   "outputs": [],
   "source": []
  }
 ],
 "metadata": {
  "kernelspec": {
   "display_name": "MATLAB Kernel",
   "language": "matlab",
   "name": "jupyter_matlab_kernel"
  },
  "language_info": {
   "file_extension": ".m",
   "mimetype": "text/x-matlab",
   "name": "matlab"
  }
 },
 "nbformat": 4,
 "nbformat_minor": 5
}
