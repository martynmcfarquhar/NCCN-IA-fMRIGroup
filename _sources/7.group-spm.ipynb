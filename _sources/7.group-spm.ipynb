{
 "cells": [
  {
   "cell_type": "markdown",
   "id": "63f72679-d1d8-4dbe-90e6-df28aa84fd99",
   "metadata": {},
   "source": [
    "# Group-level Modelling in SPM\n",
    "The video below will show you how to specify a group-level GLM using SPM12. The dataset for this example is a continuation of the design from the single-subject modelling lesson. We have multiple subjects who all performed the task involving pictures of different valences. These subjects were classified as either older adults or younger adults. For each subject, their data has already been fully pre-processed and 1st-level models have been fit with three t-contrasts specified. This has produced three con_*.nii images per-subject. For this dataset we have, for each subject,\n",
    "- `con_0001.nii` (Positive - Negative)\n",
    "- `con_0002.nii` (Positive - Neutral)\n",
    "- `con_0003.nii` (Negative - Neutral)\n",
    "\n",
    "which will form the raw data for three group-level GLM analyses. This dataset can be downloaded from [here](https://livemanchesterac.sharepoint.com/:u:/r/sites/UOM-FBMH-MSc-NCCN/Shared%20Documents/PCHN62121%20Image%20Analysis/Learning%20Materials/Asynchronous/Week%2009/2.%20Group%20Models/Data/SecondLevelData.zip?&download=1)."
   ]
  },
  {
   "cell_type": "code",
   "execution_count": null,
   "id": "f7e10e7a-5342-4f40-8e60-f0e4f7b13a7b",
   "metadata": {},
   "outputs": [],
   "source": []
  }
 ],
 "metadata": {
  "kernelspec": {
   "display_name": "MATLAB Kernel",
   "language": "matlab",
   "name": "jupyter_matlab_kernel"
  },
  "language_info": {
   "file_extension": ".m",
   "mimetype": "text/x-matlab",
   "name": "matlab"
  }
 },
 "nbformat": 4,
 "nbformat_minor": 5
}
