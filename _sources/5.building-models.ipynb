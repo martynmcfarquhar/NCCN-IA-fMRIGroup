{
 "cells": [
  {
   "cell_type": "markdown",
   "id": "63f72679-d1d8-4dbe-90e6-df28aa84fd99",
   "metadata": {},
   "source": [
    "# Building Group-level Models\n",
    "We are going to see many more examples of group-level models as part of *Experimental Design & Optimisation*. However, at this stage, it is useful to give a sense of how we use the GLM to analyse our per-subject contrast images. Luckily, the group-level is much more straightforward because we do not have to deal with issues such as the shape of the BOLD signal, the nature of time-series data, or low-frequency scanner noise. As such, group-level GLMs are generally much simpler than single-subject GLMs.\n",
    "\n",
    "## Indicator Variables for Groups\n",
    "\n",
    "## Model Estimation\n",
    "\n",
    "## Parameter Interpretation\n",
    "\n",
    "## Inference\n",
    "\n",
    "### One-tailed Tests\n",
    "\n",
    "### Two-tailed Tests\n",
    "\n",
    "```{admonition} When to Use $t$ and When to Use $F$?\n",
    "...\n",
    "``` "
   ]
  },
  {
   "cell_type": "code",
   "execution_count": null,
   "id": "f7e10e7a-5342-4f40-8e60-f0e4f7b13a7b",
   "metadata": {},
   "outputs": [],
   "source": []
  }
 ],
 "metadata": {
  "kernelspec": {
   "display_name": "MATLAB Kernel",
   "language": "matlab",
   "name": "jupyter_matlab_kernel"
  },
  "language_info": {
   "file_extension": ".m",
   "mimetype": "text/x-matlab",
   "name": "matlab"
  }
 },
 "nbformat": 4,
 "nbformat_minor": 5
}
