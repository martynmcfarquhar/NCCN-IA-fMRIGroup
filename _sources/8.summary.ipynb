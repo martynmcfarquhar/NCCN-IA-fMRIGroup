{
 "cells": [
  {
   "cell_type": "markdown",
   "id": "63f72679-d1d8-4dbe-90e6-df28aa84fd99",
   "metadata": {},
   "source": [
    "# Summary\n",
    "In this lesson, we have seen how to complete our fMRI analysis journey by combining multiple single-subject analyses into a group-level analysis. The group-level analysis allow us to make inferences about brain responses in the wider population and thus represents the end of our fMRI analysis. By using the GLM framework again, much of the process involved in the group-level analysis is the same as the single-subject analysis. The differences come in terms of interpretation, model construction and the most suitable type of inference. In a later lesson, we will see approaches to visualisation that can help make further sense of group-level results. In the mean-time, it is worthwhile spending some time getting comfortable with the idea of taking *differences* through to the group-level, thinking carefully about the consequences in terms of what group effects *actually mean*. This is the trickiest aspect of group-level models, so make sure you do not neglect getting to grips with this. Now would also be a good time to review the entire analysis process to make sure you are clear on the steps we take and the reasoning behind these steps."
   ]
  },
  {
   "cell_type": "code",
   "execution_count": null,
   "id": "f7e10e7a-5342-4f40-8e60-f0e4f7b13a7b",
   "metadata": {},
   "outputs": [],
   "source": []
  }
 ],
 "metadata": {
  "kernelspec": {
   "display_name": "MATLAB Kernel",
   "language": "matlab",
   "name": "jupyter_matlab_kernel"
  },
  "language_info": {
   "file_extension": ".m",
   "mimetype": "text/x-matlab",
   "name": "matlab"
  }
 },
 "nbformat": 4,
 "nbformat_minor": 5
}
