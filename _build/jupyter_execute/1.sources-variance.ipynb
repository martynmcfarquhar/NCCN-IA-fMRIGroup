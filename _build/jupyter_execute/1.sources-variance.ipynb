{
 "cells": [
  {
   "cell_type": "markdown",
   "id": "63f72679-d1d8-4dbe-90e6-df28aa84fd99",
   "metadata": {},
   "source": [
    "# Sources of Variance\n",
    "One of the key concepts we need in order to understand how group-level models work is *sources of variance*. This is quite a big deal in statistics because we need to be able to attribute variation in our data to the correct sources. When we have multiple subjects, each with multiple measurements, we have two general sources of variation. One of these captures the internal consistency of a single subject and one of these captures the general consistency of a group of subjects. This distinction is important because our modelling choices influence which one of these sources of variance our model variance represents. This directly influences the calculation of the standard error, which directly affects the magnitude of our test statistics and thus the magnitude of the p-values. This choice therefore has a direct influence on our inference, as we will come to see.\n",
    "\n",
    "It may be easiest to understand this with an example. The plot below shows some hypothetical data from 3 subjects who were each measured 5 times. Hopefully it is clear that there are two distinct patterns in the data. One pattern corresponds to how close the data points are within each subject, while the other pattern corresponds to how close the data points are between each of the subjects. These patterns correspond to our two general sources of variation: the *within-subject* and the *between-subjects*."
   ]
  },
  {
   "cell_type": "code",
   "execution_count": null,
   "id": "f7e10e7a-5342-4f40-8e60-f0e4f7b13a7b",
   "metadata": {},
   "outputs": [],
   "source": []
  }
 ],
 "metadata": {
  "kernelspec": {
   "display_name": "MATLAB Kernel",
   "language": "matlab",
   "name": "jupyter_matlab_kernel"
  },
  "language_info": {
   "file_extension": ".m",
   "mimetype": "text/x-matlab",
   "name": "matlab"
  }
 },
 "nbformat": 4,
 "nbformat_minor": 5
}