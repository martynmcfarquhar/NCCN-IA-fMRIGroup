{
 "cells": [
  {
   "cell_type": "markdown",
   "id": "63f72679-d1d8-4dbe-90e6-df28aa84fd99",
   "metadata": {},
   "source": [
    "# Sources of Variance\n",
    "One of the key concepts we need in order to understand how group-level models work is *sources of variance*. When we have multiple subjects, each with multiple measurements, there are two general reasons why the data values differ from one measurement to the next. One of these corresponds to the the *internal consistency* of a single subject, and the other corresponds to the *general consistency* within a group of subjects. For example, {numref}`variance-sources-fig` shows some hypothetical data from 3 subjects who were each measured 5 times. Hopefully it is clear that there are two distinct patterns in the data. One pattern corresponds to how close the data points are *within* each subject, while the other pattern corresponds to how close the data points are *between* each of the subjects.\n",
    "\n",
    "```{figure} images/variance-sources.png\n",
    "---\n",
    "width: 550px\n",
    "name: variance-sources-fig\n",
    "---\n",
    "Illustration of how multiple measurements across multiple subjects creates two sources of variance, one corresponding to variance *within* each subject and one corresponding to variance *between* the subjects.\n",
    "```\n",
    "\n",
    "```{important}\n",
    "The distinction between the *within-subject* and *between-subjects* variance turns out to be very important, because our modelling choices influence which one of these sources the variance calculated from the GLM residuals represents. This directly influences the calculation of the standard errors, which then directly affects the magnitude of our test statistics and thus the magnitude of the $p$-values. As such, understanding the difference is therefore critical for inference, as we will come to see.\n",
    "```"
   ]
  },
  {
   "cell_type": "code",
   "execution_count": null,
   "id": "f7e10e7a-5342-4f40-8e60-f0e4f7b13a7b",
   "metadata": {},
   "outputs": [],
   "source": []
  }
 ],
 "metadata": {
  "kernelspec": {
   "display_name": "MATLAB Kernel",
   "language": "matlab",
   "name": "jupyter_matlab_kernel"
  },
  "language_info": {
   "file_extension": ".m",
   "mimetype": "text/x-matlab",
   "name": "matlab"
  }
 },
 "nbformat": 4,
 "nbformat_minor": 5
}