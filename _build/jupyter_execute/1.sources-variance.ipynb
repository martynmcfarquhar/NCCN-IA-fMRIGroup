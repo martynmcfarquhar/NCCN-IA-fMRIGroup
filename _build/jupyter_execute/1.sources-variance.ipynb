{
 "cells": [
  {
   "cell_type": "markdown",
   "id": "63f72679-d1d8-4dbe-90e6-df28aa84fd99",
   "metadata": {},
   "source": [
    "# Sources of Variance\n",
    "One of the key concepts we need in order to understand how group-level models work is *sources of variance*. When we have multiple subjects, each with multiple measurements, there are two general reasons why the data values differ from one measurement to the next. One of these corresponds to the the *internal consistency* of a single subject, and the other corresponds to the *general consistency* within a group of subjects. For example, {numref}`variance-sources-fig` shows some hypothetical data from 3 subjects who were each measured 5 times. Hopefully it is clear that there are two distinct patterns in the data. One pattern corresponds to how close the data points are *within* each subject, while the other pattern corresponds to how close the data points are *between* each of the subjects.\n",
    "\n",
    "```{figure} images/variance-sources.png\n",
    "---\n",
    "width: 550px\n",
    "name: variance-sources-fig\n",
    "---\n",
    "Illustration of how multiple measurements across multiple subjects creates two sources of variance, one corresponding to variance *within* each subject and one corresponding to variance *between* the subjects.\n",
    "```\n",
    "\n",
    "```{important}\n",
    "The distinction between the *within-subject* and *between-subjects* variance turns out to be very important because our modelling choices influence which one of these sources the variance calculated from the GLM residuals represents. This directly influences the calculation of the standard errors, which then directly affects the magnitude of our test statistics and thus the magnitude of the $p$-values. As such, understanding the difference is *critical* for our inference, as we will come to see.\n",
    "```\n",
    "\n",
    "## Within-subject Variance\n",
    "The within-subject variance corresponds to the spread of data points around each subject's mean. This is illustrated in {numref}``, where the orange lines represent the individual subject means ($\\mu_1$, $\\mu_2$, $\\mu_3$) and the spread is indicated by the dashed vertical lines. For each subject, we can therefore calculate a variance value that captures their own personal degree of error. This tells us how *internally consistent* that subject is. The smaller the errors, the more consistent a subject is across the repeated measurements. In other words, the better the mean is as a representation of that single subject.\n",
    "\n",
    "```{figure} images/ws-variance.png\n",
    "---\n",
    "width: 550px\n",
    "name: ws-variance-fig\n",
    "---\n",
    "Illustration of the *within-subject* variance for 3 subjects each with 5 repeated measurements.\n",
    "```\n",
    "\n",
    "From the perspective of fMRI, our repeated measurements for each subject are the time-series values. From this perspective, the 5 measurements shown in {numref}`` are representative of the 200-odd measurements that make up an fMRI time-series. The time-series model is not usually just a simple mean, nevertheless, we still get errors in terms of the discrepancy between the predicted values of the model and the raw data. From these errors, we can calculate an estimate of the within-subject variance. As such, the *within-subject* variance for fMRI is captured by the variance calculated from the single-subject GLM analysis. This is the `ResMS.nii` image saved by `SPM` for each subject.\n",
    "\n",
    "## Between-subject Variance\n",
    "\n",
    "```{figure} images/bs-variance.png\n",
    "---\n",
    "width: 550px\n",
    "name: bs-variance-fig\n",
    "---\n",
    "Illustration of the *between-subject* variance for 3 subjects.\n",
    "```\n",
    "\n",
    "## The Bigger Picture\n",
    "\n",
    "```{figure} images/sampling-model.png\n",
    "---\n",
    "width: 800px\n",
    "name: sampling-model-fig\n",
    "---\n",
    "Illustration of ...\n",
    "```"
   ]
  },
  {
   "cell_type": "code",
   "execution_count": null,
   "id": "f7e10e7a-5342-4f40-8e60-f0e4f7b13a7b",
   "metadata": {},
   "outputs": [],
   "source": []
  }
 ],
 "metadata": {
  "kernelspec": {
   "display_name": "MATLAB Kernel",
   "language": "matlab",
   "name": "jupyter_matlab_kernel"
  },
  "language_info": {
   "file_extension": ".m",
   "mimetype": "text/x-matlab",
   "name": "matlab"
  }
 },
 "nbformat": 4,
 "nbformat_minor": 5
}