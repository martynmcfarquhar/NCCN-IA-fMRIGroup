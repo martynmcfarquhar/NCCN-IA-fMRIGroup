{
 "cells": [
  {
   "cell_type": "markdown",
   "id": "63f72679-d1d8-4dbe-90e6-df28aa84fd99",
   "metadata": {},
   "source": [
    "# Fixed-effects: The Wrong Way\n",
    "As described in the last section, if our interest is only on a single-subject then the variance we need to take into account is the *within-subject*. To put this into context, when we fit a single-subject GLM using SPM, the variance calculated from that model *is* the within-subject variance. This is because it is based on the errors of the GLM, which represent discrepancies between the measured time-series and the predicted time-series for that individual subject. This is the same as considering the spread of data around the subject's own mean. Our hypothesis tests are then built using test statistics that use the within-subject variance, and so all our inference is based on the internal consistency of that one subject. This is perfectly valid, and reflects the fact that inference at the 1st-level is only relevant for that one subject and nobody else.\n",
    "\n",
    "## Stacking Multiple Subjects at the 1st-level\n",
    "Early approaches to analysing fMRI data from multiple subjects involved expanding upon inference at the 1st-level by concatenating the data from multiple subjects. As an example, the design matrix shown in {numref}`ffx-glm-fig` involves stacking the individual 1st-level models for 10 subjects, and then using a contrast to average across the subjects to test for group effects.\n",
    "\n",
    "```{figure} images/fixed-effects-glm.jpg\n",
    "---\n",
    "width: 500px\n",
    "name: ffx-glm-fig\n",
    "---\n",
    "Example of a fixed-effects analysis, conducted by stacking all the data and then modelling each subject as an individual block within a single large design matrix.  \n",
    "```\n",
    "\n",
    "Although this may initially seem reasonable, there are some major problems with this approach. To see what they are, consider writing this model in terms of the GLM\n",
    "\n",
    "where 0 refers to a sub-matrix of zeros. The errors in this model are just a stack of the errors from the individual single-subject models. As we know, these represent within-subject errors because they tell us the discrepancies between the original data and the model for that one subject. So the overall model variance for this big GLM is the average within-subject variance from across each subject. This means that any hypothesis tests from this model will use the average within-subject variance for inference. What this does not do is take the between-subject variance into account which, as we have established, is the most important element for making inference on a group of subjects. There is nothing in this approach that considers this particular group of subjects as representative of a larger population of subjects.\n",
    "\n",
    "```{note}\n",
    "In statistical jargon, if we do not treat subjects as being drawn from a larger population then the subjects represent a *fixed-effect*. As such, this approach is known as a *fixed-effects analysis*, sometimes shortened to [FFX](https://en.wikipedia.org/wiki/Final_Fantasy_X).\n",
    "```\n",
    "\n",
    "The long-and-short of all this is that a fixed-effects approach is not appropriate for modelling group-level fMRI data. Although it may seem somewhat harmless doing things this way, the issue is that the within-subject variance is generally much smaller than the between-subjects variance. As such, trying to use the within-subject variance for inference about a population leads to a massively inflated false positive rate. This means many spurious group results, which can be particularly dangerous if you are interested in comparing patients and controls with a view to understanding and treating clinical disorders.\n",
    "\n",
    "## What Use is a FFX Analysis?\n",
    "So beyond historical curiosity, why are we discussing this approach if it is inappropriate? The first reason is to make sure that you are not tricked into using them by the SPM interface. You may recall when we specified single-subject models, SPM asks to you add a New:Subject/Session, which does give the impression that putting multiple subjects in at the 1st-level is the way to analyse multiple subjects. So it is worthwhile explaining why you generally should not do this.\n",
    "\n",
    "## History of FFX Analyses\n"
   ]
  },
  {
   "cell_type": "code",
   "execution_count": null,
   "id": "f7e10e7a-5342-4f40-8e60-f0e4f7b13a7b",
   "metadata": {},
   "outputs": [],
   "source": []
  }
 ],
 "metadata": {
  "kernelspec": {
   "display_name": "MATLAB Kernel",
   "language": "matlab",
   "name": "jupyter_matlab_kernel"
  },
  "language_info": {
   "file_extension": ".m",
   "mimetype": "text/x-matlab",
   "name": "matlab"
  }
 },
 "nbformat": 4,
 "nbformat_minor": 5
}