{
 "cells": [
  {
   "cell_type": "markdown",
   "id": "63f72679-d1d8-4dbe-90e6-df28aa84fd99",
   "metadata": {},
   "source": [
    "# Fixed-effects: The Wrong Way\n",
    "As described in the last section, if our interest is only on a single-subject then the variance we need to take into account is the *within-subject*. To put this into context, when we fit a single-subject GLM using SPM, the variance calculated from that model *is* the within-subject variance. This is because it is based on the errors of the GLM, which represent discrepancies between the measured time-series and the predicted time-series for that individual subject. This is the same as considering the spread of data around the subject's own mean. Our hypothesis tests are then built using test statistics that use the within-subject variance, and so all our inference is based on the internal consistency of that one subject. This is perfectly valid, and reflects the fact that inference at the 1st-level is only relevant for that one subject and nobody else.\n",
    "\n",
    "## Stacking Multiple Subjects at the 1st-level\n",
    "Early approaches to analysing fMRI data from multiple subjects involved expanding upon inference at the 1st-level by concatenating the data from multiple subjects. As an example, the design matrix shown in {numref}`ffx-glm-fig` involves stacking the individual 1st-level models for 10 subjects, and then using a contrast to average across the subjects to test for group effects.\n",
    "\n",
    "```{figure} images/fixed-effects-glm.jpg\n",
    "---\n",
    "width: 500px\n",
    "name: ffx-glm-fig\n",
    "---\n",
    "Example of a fixed-effects analysis, conducted by stacking all the data and then modelling each subject as an individual block within a single large design matrix.  \n",
    "```\n",
    "\n",
    "Although this may initially seem reasonable, there are some major problems with this approach. To see what they are, consider writing this model in terms of the GLM\n",
    "\n",
    "```{note}\n",
    "In statistical jargon, if we do not treat subjects as being drawn from a larger population then the subjects represent a *fixed-effect*. As such, this approach is known as a *fixed-effects analysis*, sometimes shortened to FFX.\n",
    "```"
   ]
  },
  {
   "cell_type": "code",
   "execution_count": null,
   "id": "f7e10e7a-5342-4f40-8e60-f0e4f7b13a7b",
   "metadata": {},
   "outputs": [],
   "source": []
  }
 ],
 "metadata": {
  "kernelspec": {
   "display_name": "MATLAB Kernel",
   "language": "matlab",
   "name": "jupyter_matlab_kernel"
  },
  "language_info": {
   "file_extension": ".m",
   "mimetype": "text/x-matlab",
   "name": "matlab"
  }
 },
 "nbformat": 4,
 "nbformat_minor": 5
}