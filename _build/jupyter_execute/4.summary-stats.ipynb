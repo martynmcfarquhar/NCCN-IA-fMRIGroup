{
 "cells": [
  {
   "cell_type": "markdown",
   "id": "63f72679-d1d8-4dbe-90e6-df28aa84fd99",
   "metadata": {},
   "source": [
    "# Summary Statistics: The SPM Way\n",
    "As mentioned in the previous section, the MFX approach is our ideal method of group-level analysis because it combines all sources of variance, allowing for the model to flexibly adapt to subjects with different degrees of variation at the 1st-level. Unfortunately, doing so, particularly within the mutlilevel framework shown previously, is computationally very challenging. This is why the original recommendation of Holmes & Friston was to use a different method, known as the *summary statistics* approach.\n",
    "\n",
    "## The Summary Statistics Approach"
   ]
  },
  {
   "cell_type": "code",
   "execution_count": null,
   "id": "f7e10e7a-5342-4f40-8e60-f0e4f7b13a7b",
   "metadata": {},
   "outputs": [],
   "source": []
  }
 ],
 "metadata": {
  "kernelspec": {
   "display_name": "MATLAB Kernel",
   "language": "matlab",
   "name": "jupyter_matlab_kernel"
  },
  "language_info": {
   "file_extension": ".m",
   "mimetype": "text/x-matlab",
   "name": "matlab"
  }
 },
 "nbformat": 4,
 "nbformat_minor": 5
}