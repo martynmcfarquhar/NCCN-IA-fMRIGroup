{
 "cells": [
  {
   "cell_type": "markdown",
   "id": "63f72679-d1d8-4dbe-90e6-df28aa84fd99",
   "metadata": {},
   "source": [
    "# Summary Statistics: The SPM Way\n",
    "As mentioned in the previous section, the MFX approach is our ideal method of group-level analysis because it combines all sources of variance, allowing for the model to flexibly adapt to subjects with different degrees of variation at the 1st-level. Unfortunately, doing so, particularly within the mutlilevel framework shown previously, is computationally very challenging. This is why the original recommendation of [Holmes & Friston (1998)](https://www.fil.ion.ucl.ac.uk/spm/doc/papers/aph_rfx.pdf) was to use a different method, known as *summary statistics*.\n",
    "\n",
    "## The Summary Statistics Approach\n",
    "Much like the MFX approach, the summary statistics approach starts with the hierarchical model we have seen previously. We still fit a 1st-level model to each subject separately, calculate a contrast of interest for each subject and then take those contrasts and use them as raw data for a 2nd-level GLM analysis of the groups. As such, the diagram in {numref}`multilevel-fig-2` remains relevant for *both* the MFX and summary-statistics approach.\n",
    "\n",
    "```{figure} images/multilevel-poldrack.png\n",
    "---\n",
    "width: 800px\n",
    "name: multilevel-fig-2\n",
    "---\n",
    "Illustration of how the multi-level framework can be implemented in two stages when working with fMRI data.\n",
    "```\n",
    "\n",
    "For the MFX model, the difficulty came when trying to take the 1st-level variances and use them as part of the estimation of the 2nd-level effects. The summary statistics approach does away with this entirely by *not* taking the 1st-level variances into account at all. Instead, the summary statistics approach just estimates the 2nd-level GLM in exactly the same fashion as the 1st-level GLM.\n",
    "\n",
    "## Summary-statistics Justification\n",
    "So how does `SPM` justify throwing all this 1st-level information away? The main reason is *computational speed*. Not having to use the 1st-level variances makes the summary statistic approach very fast, as it just involves using least-squares to estimate the 2nd-level models. This means no iterative algorithms and no possibilities of convergence failures. This means all the machinery we have already developed for single-subject analyses can be recycled for the group-level. Another reason is that the variance estimate from the 2nd-level will be based on errors that capture the spread of the individual subjects around the group means. As such, this approach will correctly calculate the between-subjects variance and thus is suitable for making inference about the wider population. Finally, if you are willing to assume that the single-subject variances from the 1st-level are identical across subjects, then there is no need for a mixed-effects approach because the subjects will all be weighted the same in the analysis.\n",
    "\n",
    "```{important}\n",
    "Although *theroretically* justifiable, in terms of *reality* the biggest problem with this justification is the assumption of identical variances across subjects. This means that not only are we assuming that our model fits equally well across every single subject, but also that additional sources of variation (such as scanner noise or motion) are the same for every subject. Technically, this also means assuming that the models for each subject are identical. This is not often true, particularly if we are modelling events based on responses (such as correct or incorrect), or if subjects have different numbers of volumes. Ultimately, this justification is fraught with issues. Unfortunately, when using `SPM`, we have little choice in the matter. Just be aware of these problems and, if you find them particularly distasteful, there is always the option of using `FSL` or `AFNI` to allow for a proper mixed-effects analysis at the group-level.\n",
    "```"
   ]
  },
  {
   "cell_type": "code",
   "execution_count": null,
   "id": "f7e10e7a-5342-4f40-8e60-f0e4f7b13a7b",
   "metadata": {},
   "outputs": [],
   "source": []
  }
 ],
 "metadata": {
  "kernelspec": {
   "display_name": "MATLAB Kernel",
   "language": "matlab",
   "name": "jupyter_matlab_kernel"
  },
  "language_info": {
   "file_extension": ".m",
   "mimetype": "text/x-matlab",
   "name": "matlab"
  }
 },
 "nbformat": 4,
 "nbformat_minor": 5
}
